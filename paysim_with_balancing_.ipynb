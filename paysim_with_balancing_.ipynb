{
  "nbformat": 4,
  "nbformat_minor": 0,
  "metadata": {
    "colab": {
      "name": "paysim with balancing .ipynb",
      "provenance": [],
      "collapsed_sections": []
    },
    "kernelspec": {
      "display_name": "Python 3",
      "name": "python3"
    },
    "language_info": {
      "name": "python"
    }
  },
  "cells": [
    {
      "cell_type": "code",
      "metadata": {
        "id": "k2fgISg4XJkP"
      },
      "source": [
        "import pandas as pd\n",
        "import numpy as np\n",
        "import matplotlib.pyplot as plt\n",
        "import seaborn as sns\n",
        "import warnings\n",
        "from sklearn.preprocessing import LabelEncoder\n",
        "from sklearn.metrics import confusion_matrix, classification_report\n",
        "%matplotlib inline\n",
        "sns.set()\n",
        "warnings.simplefilter('ignore')\n",
        "from xgboost import XGBClassifier\n",
        "from sklearn.preprocessing import StandardScaler\n",
        "from keras.models import Sequential\n",
        "from keras.layers import Dense\n",
        "from keras.optimizers import Adam\n",
        "from keras.callbacks import ReduceLROnPlateau, EarlyStopping\n",
        "from sklearn.metrics import average_precision_score, confusion_matrix"
      ],
      "execution_count": null,
      "outputs": []
    },
    {
      "cell_type": "code",
      "metadata": {
        "id": "-Z-myayfX9Jk",
        "colab": {
          "base_uri": "https://localhost:8080/"
        },
        "outputId": "e3824216-304f-4abc-ddc4-7ae28514d943"
      },
      "source": [
        "from google.colab import drive\n",
        "drive.mount('/content/drive')\n"
      ],
      "execution_count": null,
      "outputs": [
        {
          "output_type": "stream",
          "text": [
            "Mounted at /content/drive\n"
          ],
          "name": "stdout"
        }
      ]
    },
    {
      "cell_type": "code",
      "metadata": {
        "id": "qnG8vEK9XPyg",
        "colab": {
          "base_uri": "https://localhost:8080/",
          "height": 359
        },
        "outputId": "c1451ad9-961d-4d60-b2b0-3aac35d79809"
      },
      "source": [
        "data = pd.read_csv('/content/drive/MyDrive/datasets/data Paysim/pysim.csv')\n",
        "data.head(10)"
      ],
      "execution_count": null,
      "outputs": [
        {
          "output_type": "execute_result",
          "data": {
            "text/html": [
              "<div>\n",
              "<style scoped>\n",
              "    .dataframe tbody tr th:only-of-type {\n",
              "        vertical-align: middle;\n",
              "    }\n",
              "\n",
              "    .dataframe tbody tr th {\n",
              "        vertical-align: top;\n",
              "    }\n",
              "\n",
              "    .dataframe thead th {\n",
              "        text-align: right;\n",
              "    }\n",
              "</style>\n",
              "<table border=\"1\" class=\"dataframe\">\n",
              "  <thead>\n",
              "    <tr style=\"text-align: right;\">\n",
              "      <th></th>\n",
              "      <th>step</th>\n",
              "      <th>type</th>\n",
              "      <th>amount</th>\n",
              "      <th>nameOrig</th>\n",
              "      <th>oldbalanceOrg</th>\n",
              "      <th>newbalanceOrig</th>\n",
              "      <th>nameDest</th>\n",
              "      <th>oldbalanceDest</th>\n",
              "      <th>newbalanceDest</th>\n",
              "      <th>isFraud</th>\n",
              "      <th>isFlaggedFraud</th>\n",
              "    </tr>\n",
              "  </thead>\n",
              "  <tbody>\n",
              "    <tr>\n",
              "      <th>0</th>\n",
              "      <td>1</td>\n",
              "      <td>PAYMENT</td>\n",
              "      <td>9839.64</td>\n",
              "      <td>C1231006815</td>\n",
              "      <td>170136.00</td>\n",
              "      <td>160296.36</td>\n",
              "      <td>M1979787155</td>\n",
              "      <td>0.0</td>\n",
              "      <td>0.00</td>\n",
              "      <td>0</td>\n",
              "      <td>0</td>\n",
              "    </tr>\n",
              "    <tr>\n",
              "      <th>1</th>\n",
              "      <td>1</td>\n",
              "      <td>PAYMENT</td>\n",
              "      <td>1864.28</td>\n",
              "      <td>C1666544295</td>\n",
              "      <td>21249.00</td>\n",
              "      <td>19384.72</td>\n",
              "      <td>M2044282225</td>\n",
              "      <td>0.0</td>\n",
              "      <td>0.00</td>\n",
              "      <td>0</td>\n",
              "      <td>0</td>\n",
              "    </tr>\n",
              "    <tr>\n",
              "      <th>2</th>\n",
              "      <td>1</td>\n",
              "      <td>TRANSFER</td>\n",
              "      <td>181.00</td>\n",
              "      <td>C1305486145</td>\n",
              "      <td>181.00</td>\n",
              "      <td>0.00</td>\n",
              "      <td>C553264065</td>\n",
              "      <td>0.0</td>\n",
              "      <td>0.00</td>\n",
              "      <td>1</td>\n",
              "      <td>0</td>\n",
              "    </tr>\n",
              "    <tr>\n",
              "      <th>3</th>\n",
              "      <td>1</td>\n",
              "      <td>CASH_OUT</td>\n",
              "      <td>181.00</td>\n",
              "      <td>C840083671</td>\n",
              "      <td>181.00</td>\n",
              "      <td>0.00</td>\n",
              "      <td>C38997010</td>\n",
              "      <td>21182.0</td>\n",
              "      <td>0.00</td>\n",
              "      <td>1</td>\n",
              "      <td>0</td>\n",
              "    </tr>\n",
              "    <tr>\n",
              "      <th>4</th>\n",
              "      <td>1</td>\n",
              "      <td>PAYMENT</td>\n",
              "      <td>11668.14</td>\n",
              "      <td>C2048537720</td>\n",
              "      <td>41554.00</td>\n",
              "      <td>29885.86</td>\n",
              "      <td>M1230701703</td>\n",
              "      <td>0.0</td>\n",
              "      <td>0.00</td>\n",
              "      <td>0</td>\n",
              "      <td>0</td>\n",
              "    </tr>\n",
              "    <tr>\n",
              "      <th>5</th>\n",
              "      <td>1</td>\n",
              "      <td>PAYMENT</td>\n",
              "      <td>7817.71</td>\n",
              "      <td>C90045638</td>\n",
              "      <td>53860.00</td>\n",
              "      <td>46042.29</td>\n",
              "      <td>M573487274</td>\n",
              "      <td>0.0</td>\n",
              "      <td>0.00</td>\n",
              "      <td>0</td>\n",
              "      <td>0</td>\n",
              "    </tr>\n",
              "    <tr>\n",
              "      <th>6</th>\n",
              "      <td>1</td>\n",
              "      <td>PAYMENT</td>\n",
              "      <td>7107.77</td>\n",
              "      <td>C154988899</td>\n",
              "      <td>183195.00</td>\n",
              "      <td>176087.23</td>\n",
              "      <td>M408069119</td>\n",
              "      <td>0.0</td>\n",
              "      <td>0.00</td>\n",
              "      <td>0</td>\n",
              "      <td>0</td>\n",
              "    </tr>\n",
              "    <tr>\n",
              "      <th>7</th>\n",
              "      <td>1</td>\n",
              "      <td>PAYMENT</td>\n",
              "      <td>7861.64</td>\n",
              "      <td>C1912850431</td>\n",
              "      <td>176087.23</td>\n",
              "      <td>168225.59</td>\n",
              "      <td>M633326333</td>\n",
              "      <td>0.0</td>\n",
              "      <td>0.00</td>\n",
              "      <td>0</td>\n",
              "      <td>0</td>\n",
              "    </tr>\n",
              "    <tr>\n",
              "      <th>8</th>\n",
              "      <td>1</td>\n",
              "      <td>PAYMENT</td>\n",
              "      <td>4024.36</td>\n",
              "      <td>C1265012928</td>\n",
              "      <td>2671.00</td>\n",
              "      <td>0.00</td>\n",
              "      <td>M1176932104</td>\n",
              "      <td>0.0</td>\n",
              "      <td>0.00</td>\n",
              "      <td>0</td>\n",
              "      <td>0</td>\n",
              "    </tr>\n",
              "    <tr>\n",
              "      <th>9</th>\n",
              "      <td>1</td>\n",
              "      <td>DEBIT</td>\n",
              "      <td>5337.77</td>\n",
              "      <td>C712410124</td>\n",
              "      <td>41720.00</td>\n",
              "      <td>36382.23</td>\n",
              "      <td>C195600860</td>\n",
              "      <td>41898.0</td>\n",
              "      <td>40348.79</td>\n",
              "      <td>0</td>\n",
              "      <td>0</td>\n",
              "    </tr>\n",
              "  </tbody>\n",
              "</table>\n",
              "</div>"
            ],
            "text/plain": [
              "   step      type    amount  ... newbalanceDest  isFraud  isFlaggedFraud\n",
              "0     1   PAYMENT   9839.64  ...           0.00        0               0\n",
              "1     1   PAYMENT   1864.28  ...           0.00        0               0\n",
              "2     1  TRANSFER    181.00  ...           0.00        1               0\n",
              "3     1  CASH_OUT    181.00  ...           0.00        1               0\n",
              "4     1   PAYMENT  11668.14  ...           0.00        0               0\n",
              "5     1   PAYMENT   7817.71  ...           0.00        0               0\n",
              "6     1   PAYMENT   7107.77  ...           0.00        0               0\n",
              "7     1   PAYMENT   7861.64  ...           0.00        0               0\n",
              "8     1   PAYMENT   4024.36  ...           0.00        0               0\n",
              "9     1     DEBIT   5337.77  ...       40348.79        0               0\n",
              "\n",
              "[10 rows x 11 columns]"
            ]
          },
          "metadata": {
            "tags": []
          },
          "execution_count": 3
        }
      ]
    },
    {
      "cell_type": "code",
      "metadata": {
        "colab": {
          "base_uri": "https://localhost:8080/"
        },
        "id": "_nPGJKd6Xapf",
        "outputId": "d32f480d-fea9-4e23-b558-14faf105794c"
      },
      "source": [
        "data.info()"
      ],
      "execution_count": null,
      "outputs": [
        {
          "output_type": "stream",
          "text": [
            "<class 'pandas.core.frame.DataFrame'>\n",
            "RangeIndex: 6362620 entries, 0 to 6362619\n",
            "Data columns (total 11 columns):\n",
            " #   Column          Dtype  \n",
            "---  ------          -----  \n",
            " 0   step            int64  \n",
            " 1   type            object \n",
            " 2   amount          float64\n",
            " 3   nameOrig        object \n",
            " 4   oldbalanceOrg   float64\n",
            " 5   newbalanceOrig  float64\n",
            " 6   nameDest        object \n",
            " 7   oldbalanceDest  float64\n",
            " 8   newbalanceDest  float64\n",
            " 9   isFraud         int64  \n",
            " 10  isFlaggedFraud  int64  \n",
            "dtypes: float64(5), int64(3), object(3)\n",
            "memory usage: 534.0+ MB\n"
          ],
          "name": "stdout"
        }
      ]
    },
    {
      "cell_type": "code",
      "metadata": {
        "colab": {
          "base_uri": "https://localhost:8080/"
        },
        "id": "wKK1hCYWYh5J",
        "outputId": "f81d7958-ae4c-401e-ff77-c80cfc0e8a51"
      },
      "source": [
        "data.shape\n"
      ],
      "execution_count": null,
      "outputs": [
        {
          "output_type": "execute_result",
          "data": {
            "text/plain": [
              "(6362620, 11)"
            ]
          },
          "metadata": {
            "tags": []
          },
          "execution_count": 5
        }
      ]
    },
    {
      "cell_type": "code",
      "metadata": {
        "colab": {
          "base_uri": "https://localhost:8080/"
        },
        "id": "87h_YpN8Yn2b",
        "outputId": "61d68990-a228-4e00-f5e6-65fa4f46bb10"
      },
      "source": [
        "data.isnull().sum()\n"
      ],
      "execution_count": null,
      "outputs": [
        {
          "output_type": "execute_result",
          "data": {
            "text/plain": [
              "step              0\n",
              "type              0\n",
              "amount            0\n",
              "nameOrig          0\n",
              "oldbalanceOrg     0\n",
              "newbalanceOrig    0\n",
              "nameDest          0\n",
              "oldbalanceDest    0\n",
              "newbalanceDest    0\n",
              "isFraud           0\n",
              "isFlaggedFraud    0\n",
              "dtype: int64"
            ]
          },
          "metadata": {
            "tags": []
          },
          "execution_count": 6
        }
      ]
    },
    {
      "cell_type": "code",
      "metadata": {
        "colab": {
          "base_uri": "https://localhost:8080/",
          "height": 297
        },
        "id": "xE6vJONlYwez",
        "outputId": "193de904-2ef4-4cd1-cabe-41060e0b190a"
      },
      "source": [
        "data.describe()"
      ],
      "execution_count": null,
      "outputs": [
        {
          "output_type": "execute_result",
          "data": {
            "text/html": [
              "<div>\n",
              "<style scoped>\n",
              "    .dataframe tbody tr th:only-of-type {\n",
              "        vertical-align: middle;\n",
              "    }\n",
              "\n",
              "    .dataframe tbody tr th {\n",
              "        vertical-align: top;\n",
              "    }\n",
              "\n",
              "    .dataframe thead th {\n",
              "        text-align: right;\n",
              "    }\n",
              "</style>\n",
              "<table border=\"1\" class=\"dataframe\">\n",
              "  <thead>\n",
              "    <tr style=\"text-align: right;\">\n",
              "      <th></th>\n",
              "      <th>step</th>\n",
              "      <th>amount</th>\n",
              "      <th>oldbalanceOrg</th>\n",
              "      <th>newbalanceOrig</th>\n",
              "      <th>oldbalanceDest</th>\n",
              "      <th>newbalanceDest</th>\n",
              "      <th>isFraud</th>\n",
              "      <th>isFlaggedFraud</th>\n",
              "    </tr>\n",
              "  </thead>\n",
              "  <tbody>\n",
              "    <tr>\n",
              "      <th>count</th>\n",
              "      <td>6.362620e+06</td>\n",
              "      <td>6.362620e+06</td>\n",
              "      <td>6.362620e+06</td>\n",
              "      <td>6.362620e+06</td>\n",
              "      <td>6.362620e+06</td>\n",
              "      <td>6.362620e+06</td>\n",
              "      <td>6.362620e+06</td>\n",
              "      <td>6.362620e+06</td>\n",
              "    </tr>\n",
              "    <tr>\n",
              "      <th>mean</th>\n",
              "      <td>2.433972e+02</td>\n",
              "      <td>1.798619e+05</td>\n",
              "      <td>8.338831e+05</td>\n",
              "      <td>8.551137e+05</td>\n",
              "      <td>1.100702e+06</td>\n",
              "      <td>1.224996e+06</td>\n",
              "      <td>1.290820e-03</td>\n",
              "      <td>2.514687e-06</td>\n",
              "    </tr>\n",
              "    <tr>\n",
              "      <th>std</th>\n",
              "      <td>1.423320e+02</td>\n",
              "      <td>6.038582e+05</td>\n",
              "      <td>2.888243e+06</td>\n",
              "      <td>2.924049e+06</td>\n",
              "      <td>3.399180e+06</td>\n",
              "      <td>3.674129e+06</td>\n",
              "      <td>3.590480e-02</td>\n",
              "      <td>1.585775e-03</td>\n",
              "    </tr>\n",
              "    <tr>\n",
              "      <th>min</th>\n",
              "      <td>1.000000e+00</td>\n",
              "      <td>0.000000e+00</td>\n",
              "      <td>0.000000e+00</td>\n",
              "      <td>0.000000e+00</td>\n",
              "      <td>0.000000e+00</td>\n",
              "      <td>0.000000e+00</td>\n",
              "      <td>0.000000e+00</td>\n",
              "      <td>0.000000e+00</td>\n",
              "    </tr>\n",
              "    <tr>\n",
              "      <th>25%</th>\n",
              "      <td>1.560000e+02</td>\n",
              "      <td>1.338957e+04</td>\n",
              "      <td>0.000000e+00</td>\n",
              "      <td>0.000000e+00</td>\n",
              "      <td>0.000000e+00</td>\n",
              "      <td>0.000000e+00</td>\n",
              "      <td>0.000000e+00</td>\n",
              "      <td>0.000000e+00</td>\n",
              "    </tr>\n",
              "    <tr>\n",
              "      <th>50%</th>\n",
              "      <td>2.390000e+02</td>\n",
              "      <td>7.487194e+04</td>\n",
              "      <td>1.420800e+04</td>\n",
              "      <td>0.000000e+00</td>\n",
              "      <td>1.327057e+05</td>\n",
              "      <td>2.146614e+05</td>\n",
              "      <td>0.000000e+00</td>\n",
              "      <td>0.000000e+00</td>\n",
              "    </tr>\n",
              "    <tr>\n",
              "      <th>75%</th>\n",
              "      <td>3.350000e+02</td>\n",
              "      <td>2.087215e+05</td>\n",
              "      <td>1.073152e+05</td>\n",
              "      <td>1.442584e+05</td>\n",
              "      <td>9.430367e+05</td>\n",
              "      <td>1.111909e+06</td>\n",
              "      <td>0.000000e+00</td>\n",
              "      <td>0.000000e+00</td>\n",
              "    </tr>\n",
              "    <tr>\n",
              "      <th>max</th>\n",
              "      <td>7.430000e+02</td>\n",
              "      <td>9.244552e+07</td>\n",
              "      <td>5.958504e+07</td>\n",
              "      <td>4.958504e+07</td>\n",
              "      <td>3.560159e+08</td>\n",
              "      <td>3.561793e+08</td>\n",
              "      <td>1.000000e+00</td>\n",
              "      <td>1.000000e+00</td>\n",
              "    </tr>\n",
              "  </tbody>\n",
              "</table>\n",
              "</div>"
            ],
            "text/plain": [
              "               step        amount  ...       isFraud  isFlaggedFraud\n",
              "count  6.362620e+06  6.362620e+06  ...  6.362620e+06    6.362620e+06\n",
              "mean   2.433972e+02  1.798619e+05  ...  1.290820e-03    2.514687e-06\n",
              "std    1.423320e+02  6.038582e+05  ...  3.590480e-02    1.585775e-03\n",
              "min    1.000000e+00  0.000000e+00  ...  0.000000e+00    0.000000e+00\n",
              "25%    1.560000e+02  1.338957e+04  ...  0.000000e+00    0.000000e+00\n",
              "50%    2.390000e+02  7.487194e+04  ...  0.000000e+00    0.000000e+00\n",
              "75%    3.350000e+02  2.087215e+05  ...  0.000000e+00    0.000000e+00\n",
              "max    7.430000e+02  9.244552e+07  ...  1.000000e+00    1.000000e+00\n",
              "\n",
              "[8 rows x 8 columns]"
            ]
          },
          "metadata": {
            "tags": []
          },
          "execution_count": 7
        }
      ]
    },
    {
      "cell_type": "code",
      "metadata": {
        "colab": {
          "base_uri": "https://localhost:8080/"
        },
        "id": "jv2C27m0Y2WL",
        "outputId": "a47c1198-8281-4688-cadc-d34aab6ffb0d"
      },
      "source": [
        "data.columns"
      ],
      "execution_count": null,
      "outputs": [
        {
          "output_type": "execute_result",
          "data": {
            "text/plain": [
              "Index(['step', 'type', 'amount', 'nameOrig', 'oldbalanceOrg', 'newbalanceOrig',\n",
              "       'nameDest', 'oldbalanceDest', 'newbalanceDest', 'isFraud',\n",
              "       'isFlaggedFraud'],\n",
              "      dtype='object')"
            ]
          },
          "metadata": {
            "tags": []
          },
          "execution_count": 8
        }
      ]
    },
    {
      "cell_type": "code",
      "metadata": {
        "id": "eKm1NScFi4HQ"
      },
      "source": [
        "# Correcting inconsistency in column name\n",
        "data = data.rename(columns={'oldbalanceOrg':'oldbalanceOrig'})"
      ],
      "execution_count": null,
      "outputs": []
    },
    {
      "cell_type": "code",
      "metadata": {
        "id": "i_7i-MqmjU8a"
      },
      "source": [
        "# Transform categorical feature(s) to numeric\n",
        "le = LabelEncoder()\n",
        "data.type = le.fit_transform(data.type)"
      ],
      "execution_count": null,
      "outputs": []
    },
    {
      "cell_type": "code",
      "metadata": {
        "colab": {
          "base_uri": "https://localhost:8080/"
        },
        "id": "kP5sk3FZXy8S",
        "outputId": "5db1e468-e0db-4866-ed7e-1ab8971f951b"
      },
      "source": [
        "data.drop(columns=['nameDest', 'nameOrig'], axis=1, inplace=True)\n",
        "data.info()\n",
        "data.shape"
      ],
      "execution_count": null,
      "outputs": [
        {
          "output_type": "stream",
          "text": [
            "<class 'pandas.core.frame.DataFrame'>\n",
            "RangeIndex: 6362620 entries, 0 to 6362619\n",
            "Data columns (total 9 columns):\n",
            " #   Column          Dtype  \n",
            "---  ------          -----  \n",
            " 0   step            int64  \n",
            " 1   type            int64  \n",
            " 2   amount          float64\n",
            " 3   oldbalanceOrig  float64\n",
            " 4   newbalanceOrig  float64\n",
            " 5   oldbalanceDest  float64\n",
            " 6   newbalanceDest  float64\n",
            " 7   isFraud         int64  \n",
            " 8   isFlaggedFraud  int64  \n",
            "dtypes: float64(5), int64(4)\n",
            "memory usage: 436.9 MB\n"
          ],
          "name": "stdout"
        },
        {
          "output_type": "execute_result",
          "data": {
            "text/plain": [
              "(6362620, 9)"
            ]
          },
          "metadata": {
            "tags": []
          },
          "execution_count": 11
        }
      ]
    },
    {
      "cell_type": "code",
      "metadata": {
        "id": "sPWScsi4X1L6"
      },
      "source": [
        "X = data.drop('isFraud', axis=1)\n",
        "Y = data['isFraud']\n",
        "x = StandardScaler().fit_transform(X)\n"
      ],
      "execution_count": null,
      "outputs": []
    },
    {
      "cell_type": "code",
      "metadata": {
        "colab": {
          "base_uri": "https://localhost:8080/"
        },
        "id": "uNDw7CTVZOa0",
        "outputId": "219d411e-ed5d-4bac-8510-1dff88d92745"
      },
      "source": [
        "# Fit PCA on X_features \n",
        "from sklearn.decomposition import PCA \n",
        "pca = PCA(n_components = 8)\n",
        "\n",
        "transformed_data = pca.fit_transform(x)\n",
        "print(transformed_data.shape)\n",
        "print(pca.explained_variance_ratio_*100)\n",
        "print(pca.explained_variance_)"
      ],
      "execution_count": null,
      "outputs": [
        {
          "output_type": "stream",
          "text": [
            "(6362620, 8)\n",
            "[2.90600080e+01 2.61973911e+01 1.25439355e+01 1.24482966e+01\n",
            " 1.10888124e+01 8.56022975e+00 8.78008016e-02 1.35258898e-02]\n",
            "[2.32480100e+00 2.09579162e+00 1.00351500e+00 9.95863886e-01\n",
            " 8.87105131e-01 6.84818488e-01 7.02406523e-03 1.08207135e-03]\n"
          ],
          "name": "stdout"
        }
      ]
    },
    {
      "cell_type": "code",
      "metadata": {
        "colab": {
          "base_uri": "https://localhost:8080/",
          "height": 281
        },
        "id": "6M94dsOiSVBO",
        "outputId": "baa57376-ead5-478a-e9fb-073b84a23939"
      },
      "source": [
        "# Plot the principal components in pie chart, and only keep the components that \n",
        "# contains 95% information of original dataset.\n",
        "threshold = 0.95\n",
        "for_test = 0\n",
        "order = 0 \n",
        "for index, ratio in enumerate(pca.explained_variance_ratio_):\n",
        "    if threshold > for_test:\n",
        "        for_test += ratio \n",
        "    else:\n",
        "        order = index + 1 \n",
        "        break \n",
        "\n",
        "print(pca.explained_variance_ratio_[:order].sum())\n",
        "com_col = ['com'+ str(i+1) for i in range(order)]\n",
        "com_col.append('others')\n",
        "com_value = [i for i in pca.explained_variance_ratio_[:order]]\n",
        "com_value.append(1-pca.explained_variance_ratio_[:order].sum())\n",
        "plt.figure(figsize=[4,4])\n",
        "plt.pie(x = com_value, labels = com_col)\n",
        "plt.title('Principal components')\n",
        "plt.show()"
      ],
      "execution_count": null,
      "outputs": [
        {
          "output_type": "stream",
          "text": [
            "0.9998647411021092\n"
          ],
          "name": "stdout"
        },
        {
          "output_type": "display_data",
          "data": {
            "image/png": "[encoded data removed]",
            "text/plain": [
              "<Figure size 288x288 with 1 Axes>"
            ]
          },
          "metadata": {
            "tags": []
          }
        }
      ]
    },
    {
      "cell_type": "code",
      "metadata": {
        "colab": {
          "base_uri": "https://localhost:8080/"
        },
        "id": "v-GdIQbYSV3X",
        "outputId": "1da22e50-d7a2-48b5-fc21-d99b85fe8eb7"
      },
      "source": [
        "#Train Test split\n",
        "from sklearn.model_selection import train_test_split\n",
        "\n",
        "# split into 70:30 ration\n",
        "X_train, X_test, y_train, y_test = train_test_split(x, Y, test_size=0.3, random_state=1)\n",
        "\n",
        "# describes info about train and test set\n",
        "print(\"Number transactions X_train dataset: \", X_train.shape)\n",
        "print(\"Number transactions y_train dataset: \", y_train.shape)\n",
        "print(\"Number transactions X_test dataset: \", X_test.shape)\n",
        "print(\"Number transactions y_test dataset: \", y_test.shape)"
      ],
      "execution_count": null,
      "outputs": [
        {
          "output_type": "stream",
          "text": [
            "Number transactions X_train dataset:  (4453834, 8)\n",
            "Number transactions y_train dataset:  (4453834,)\n",
            "Number transactions X_test dataset:  (1908786, 8)\n",
            "Number transactions y_test dataset:  (1908786,)\n"
          ],
          "name": "stdout"
        }
      ]
    },
    {
      "cell_type": "code",
      "metadata": {
        "colab": {
          "base_uri": "https://localhost:8080/"
        },
        "id": "yiri6c1cpS5L",
        "outputId": "0b6c05a6-3938-4165-d2c1-6dd02b7de038"
      },
      "source": [
        "#Class Balancing\n",
        "#Through SMOTE\n",
        "print(\"Before OverSampling, counts of label '1': {}\".format(sum(y_train == 1)))\n",
        "print(\"Before OverSampling, counts of label '0': {} \\n\".format(sum(y_train == 0)))\n",
        "\n",
        "# import SMOTE module from imblearn library\n",
        "# pip install imblearn (if you don't have imblearn in your system)\n",
        "from imblearn.over_sampling import SMOTE\n",
        "sm = SMOTE(random_state = 2)\n",
        "X_train, y_train = sm.fit_sample(X_train, y_train.ravel())\n",
        "\n",
        "print('After OverSampling, the shape of train_X: {}'.format(X_train.shape))\n",
        "print('After OverSampling, the shape of train_y: {} \\n'.format(y_train.shape))\n",
        "\n",
        "print(\"After OverSampling, counts of label '1': {}\".format(sum(y_train== 1)))\n",
        "print(\"After OverSampling, counts of label '0': {}\".format(sum(y_train == 0)))"
      ],
      "execution_count": null,
      "outputs": [
        {
          "output_type": "stream",
          "text": [
            "Before OverSampling, counts of label '1': 5745\n",
            "Before OverSampling, counts of label '0': 4448089 \n",
            "\n",
            "After OverSampling, the shape of train_X: (8896178, 8)\n",
            "After OverSampling, the shape of train_y: (8896178,) \n",
            "\n",
            "After OverSampling, counts of label '1': 4448089\n",
            "After OverSampling, counts of label '0': 4448089\n"
          ],
          "name": "stdout"
        }
      ]
    },
    {
      "cell_type": "markdown",
      "metadata": {
        "id": "vA7iUn9vGs9t"
      },
      "source": [
        "# Logistic Regression"
      ]
    },
    {
      "cell_type": "code",
      "metadata": {
        "id": "utcZwhAWGs9t"
      },
      "source": [
        "from sklearn.linear_model import LogisticRegression\n",
        "lr1 = LogisticRegression()\n",
        "lr1.fit(X_train, y_train)\n",
        "predictions = lr1.predict(X_test)\n"
      ],
      "execution_count": null,
      "outputs": []
    },
    {
      "cell_type": "code",
      "metadata": {
        "id": "vGh76NtRGs9t",
        "colab": {
          "base_uri": "https://localhost:8080/"
        },
        "outputId": "1cad4f1e-3417-47c2-b16c-b77114c84ed2"
      },
      "source": [
        "from sklearn.metrics import accuracy_score, f1_score, precision_score, recall_score, plot_roc_curve\n",
        "acc1 = accuracy_score(y_test, predictions)\n",
        "prec1 = precision_score(y_test, predictions )\n",
        "rec1 = recall_score(y_test, predictions )\n",
        "f11 = f1_score(y_test, predictions )\n",
        "print('accuracy:%0.4f'%acc1,'\\tprecision:%0.4f'%prec1,'\\trecall:%0.4f'%rec1,'\\tF1-score:%0.4f'%f11)"
      ],
      "execution_count": null,
      "outputs": [
        {
          "output_type": "stream",
          "text": [
            "accuracy:0.9706 \tprecision:0.0386 \trecall:0.9105 \tF1-score:0.0741\n"
          ],
          "name": "stdout"
        }
      ]
    },
    {
      "cell_type": "code",
      "metadata": {
        "id": "N0OV12-UGs9t"
      },
      "source": [
        "results_testset = pd.DataFrame([['Logistic Regression', acc1,  rec1, prec1, f11]],\n",
        "               columns = ['Model', 'Accuracy',  'Recall', 'Precision', 'F1 Score'])\n"
      ],
      "execution_count": null,
      "outputs": []
    },
    {
      "cell_type": "code",
      "metadata": {
        "id": "mVesPN4LGs9t",
        "colab": {
          "base_uri": "https://localhost:8080/",
          "height": 285
        },
        "outputId": "d27fa3fa-3a93-40cd-9ac3-b21d4b9b70b4"
      },
      "source": [
        "ROC_RF = plot_roc_curve(lr1, X_test, y_test)\n",
        "plt.show()"
      ],
      "execution_count": null,
      "outputs": [
        {
          "output_type": "display_data",
          "data": {
            "image/png": "[encoded data removed]",
            "text/plain": [
              "<Figure size 432x288 with 1 Axes>"
            ]
          },
          "metadata": {
            "tags": [],
            "needs_background": "light"
          }
        }
      ]
    },
    {
      "cell_type": "code",
      "metadata": {
        "id": "-TohkE3XGs9u",
        "colab": {
          "base_uri": "https://localhost:8080/",
          "height": 505
        },
        "outputId": "acfe5265-2094-429c-e829-360064c9a02d"
      },
      "source": [
        "from sklearn.metrics import confusion_matrix\n",
        "\n",
        "#printing the confusion matrix\n",
        "LABELS = ['Normal', 'Fraud']\n",
        "conf_matrix = confusion_matrix(y_test, predictions )\n",
        "plt.figure(figsize=(6, 4))\n",
        "sns.heatmap(conf_matrix, xticklabels=LABELS, yticklabels=LABELS, annot=True, fmt=\"d\");\n",
        "plt.title(\"Confusion matrix\")\n",
        "plt.ylabel('True class')\n",
        "plt.xlabel('Predicted class')\n",
        "plt.show()\n",
        "n_errors = (predictions  != y_test).sum()\n",
        "# Run classification metrics\n",
        "plt.figure(figsize=(5, 4))\n",
        "print('{}: {}'.format(\"Logistic Regression\", n_errors))\n",
        "print(accuracy_score(y_test, predictions ))\n",
        "print(classification_report(y_test, predictions ))"
      ],
      "execution_count": null,
      "outputs": [
        {
          "output_type": "display_data",
          "data": {
            "image/png": "[encoded data removed]",
            "text/plain": [
              "<Figure size 432x288 with 2 Axes>"
            ]
          },
          "metadata": {
            "tags": [],
            "needs_background": "light"
          }
        },
        {
          "output_type": "stream",
          "text": [
            "Logistic Regression: 56184\n",
            "0.9705655846176575\n",
            "              precision    recall  f1-score   support\n",
            "\n",
            "           0       1.00      0.97      0.99   1906318\n",
            "           1       0.04      0.91      0.07      2468\n",
            "\n",
            "    accuracy                           0.97   1908786\n",
            "   macro avg       0.52      0.94      0.53   1908786\n",
            "weighted avg       1.00      0.97      0.98   1908786\n",
            "\n"
          ],
          "name": "stdout"
        },
        {
          "output_type": "display_data",
          "data": {
            "text/plain": [
              "<Figure size 360x288 with 0 Axes>"
            ]
          },
          "metadata": {
            "tags": []
          }
        }
      ]
    },
    {
      "cell_type": "markdown",
      "metadata": {
        "id": "QzQh1k01Gs9u"
      },
      "source": [
        "# Random Forest "
      ]
    },
    {
      "cell_type": "code",
      "metadata": {
        "id": "zZ3bdZclGs9u"
      },
      "source": [
        "#Import Random Forest Model\n",
        "from sklearn.ensemble import RandomForestClassifier\n",
        "\n",
        "#Create a Gaussian Classifier\n",
        "clf=RandomForestClassifier(n_estimators=100)\n",
        "\n",
        "#Train the model using the training sets y_pred=clf.predict(X_test)\n",
        "clf.fit(X_train, y_train)\n",
        "\n",
        "y_pred=clf.predict(X_test)"
      ],
      "execution_count": null,
      "outputs": []
    },
    {
      "cell_type": "code",
      "metadata": {
        "id": "2lC9K9WcGs9v",
        "colab": {
          "base_uri": "https://localhost:8080/"
        },
        "outputId": "7c80db7c-abfd-4f58-a5e9-120f5efaafc3"
      },
      "source": [
        "\n",
        "acc2 = accuracy_score(y_test, y_pred)\n",
        "prec2 = precision_score(y_test, y_pred)\n",
        "rec2 = recall_score(y_test, y_pred)\n",
        "f12 = f1_score(y_test, y_pred)\n",
        "print('accuracy:%0.4f'%acc2,'\\tprecision:%0.4f'%prec2,'\\trecall:%0.4f'%rec2,'\\tF1-score:%0.4f'%f12)"
      ],
      "execution_count": null,
      "outputs": [
        {
          "output_type": "stream",
          "text": [
            "accuracy:0.9992 \tprecision:0.6292 \trecall:0.9571 \tF1-score:0.7592\n"
          ],
          "name": "stdout"
        }
      ]
    },
    {
      "cell_type": "code",
      "metadata": {
        "id": "7Blikp5HGs9v"
      },
      "source": [
        "model_results = pd.DataFrame([['Random Forest', acc2,  rec2, prec2, f12]],\n",
        "               columns = ['Model', 'Accuracy',  'Recall', 'Precision', 'F1 Score'])\n",
        "results_testset = results_testset.append(model_results, ignore_index = True)\n"
      ],
      "execution_count": null,
      "outputs": []
    },
    {
      "cell_type": "code",
      "metadata": {
        "id": "c_FsFq5CGs9v",
        "colab": {
          "base_uri": "https://localhost:8080/",
          "height": 285
        },
        "outputId": "a2edbd79-eb62-4449-e23b-a13981a47876"
      },
      "source": [
        "ROC_RF = plot_roc_curve(clf, X_test, y_test)\n",
        "plt.show()"
      ],
      "execution_count": null,
      "outputs": [
        {
          "output_type": "display_data",
          "data": {
            "image/png": "[encoded data removed]",
            "text/plain": [
              "<Figure size 432x288 with 1 Axes>"
            ]
          },
          "metadata": {
            "tags": [],
            "needs_background": "light"
          }
        }
      ]
    },
    {
      "cell_type": "code",
      "metadata": {
        "id": "6e0xvHQxGs9v",
        "colab": {
          "base_uri": "https://localhost:8080/",
          "height": 505
        },
        "outputId": "50aeabf5-a648-4685-9e83-fcbc6dda1523"
      },
      "source": [
        "from sklearn.metrics import confusion_matrix\n",
        "\n",
        "#printing the confusion matrix\n",
        "LABELS = ['Normal', 'Fraud']\n",
        "conf_matrix = confusion_matrix(y_test, y_pred)\n",
        "plt.figure(figsize=(6, 4))\n",
        "sns.heatmap(conf_matrix, xticklabels=LABELS, yticklabels=LABELS, annot=True, fmt=\"d\");\n",
        "plt.title(\"Confusion matrix\")\n",
        "plt.ylabel('True class')\n",
        "plt.xlabel('Predicted class')\n",
        "plt.show()\n",
        "n_errors = (y_pred != y_test).sum()\n",
        "# Run classification metrics\n",
        "plt.figure(figsize=(9, 7))\n",
        "print('{}: {}'.format(\"Random Forest\", n_errors))\n",
        "print(accuracy_score(y_test, y_pred))\n",
        "print(classification_report(y_test, y_pred))"
      ],
      "execution_count": null,
      "outputs": [
        {
          "output_type": "display_data",
          "data": {
            "image/png": "[encoded data removed]",
            "text/plain": [
              "<Figure size 432x288 with 2 Axes>"
            ]
          },
          "metadata": {
            "tags": [],
            "needs_background": "light"
          }
        },
        {
          "output_type": "stream",
          "text": [
            "Random Forest: 1498\n",
            "0.9992152079908382\n",
            "              precision    recall  f1-score   support\n",
            "\n",
            "           0       1.00      1.00      1.00   1906318\n",
            "           1       0.63      0.96      0.76      2468\n",
            "\n",
            "    accuracy                           1.00   1908786\n",
            "   macro avg       0.81      0.98      0.88   1908786\n",
            "weighted avg       1.00      1.00      1.00   1908786\n",
            "\n"
          ],
          "name": "stdout"
        },
        {
          "output_type": "display_data",
          "data": {
            "text/plain": [
              "<Figure size 648x504 with 0 Axes>"
            ]
          },
          "metadata": {
            "tags": []
          }
        }
      ]
    },
    {
      "cell_type": "markdown",
      "metadata": {
        "id": "SEW1xS2JGs9v"
      },
      "source": [
        "# Decision Tree"
      ]
    },
    {
      "cell_type": "code",
      "metadata": {
        "id": "lqYnk2DQGs9w"
      },
      "source": [
        "from sklearn.tree import DecisionTreeClassifier # Import Decision Tree Classifier\n",
        "dt= DecisionTreeClassifier()\n",
        "\n",
        "# Train Decision Tree Classifer\n",
        "dt = dt.fit(X_train, y_train)\n",
        "\n",
        "#Predict the response for test dataset\n",
        "y_pred_dt = dt.predict(X_test)"
      ],
      "execution_count": null,
      "outputs": []
    },
    {
      "cell_type": "code",
      "metadata": {
        "id": "Oq4Uvt-eGs9w",
        "colab": {
          "base_uri": "https://localhost:8080/"
        },
        "outputId": "94a16aef-9f43-480f-eb3c-b6c67c85ad07"
      },
      "source": [
        "acc3 = accuracy_score(y_test, y_pred_dt)\n",
        "prec3 = precision_score(y_test, y_pred_dt)\n",
        "rec3 = recall_score(y_test, y_pred_dt)\n",
        "f13 = f1_score(y_test, y_pred_dt)\n",
        "print('accuracy:%0.4f'%acc3,'\\tprecision:%0.4f'%prec3,'\\trecall:%0.4f'%rec3,'\\tF1-score:%0.4f'%f13)"
      ],
      "execution_count": null,
      "outputs": [
        {
          "output_type": "stream",
          "text": [
            "accuracy:0.9994 \tprecision:0.6792 \trecall:0.9660 \tF1-score:0.7976\n"
          ],
          "name": "stdout"
        }
      ]
    },
    {
      "cell_type": "code",
      "metadata": {
        "id": "nV9fFidOGs9w"
      },
      "source": [
        "model_results = pd.DataFrame([['Decision Tree', acc3,  rec3, prec3, f13]],\n",
        "               columns = ['Model', 'Accuracy',  'Recall', 'Precision', 'F1 Score'])\n",
        "results_testset = results_testset.append(model_results, ignore_index = True)"
      ],
      "execution_count": null,
      "outputs": []
    },
    {
      "cell_type": "code",
      "metadata": {
        "id": "klrGemxVGs9w",
        "colab": {
          "base_uri": "https://localhost:8080/",
          "height": 285
        },
        "outputId": "55b8f758-4b72-445c-c223-7e86c01aa7cc"
      },
      "source": [
        "ROC_RF = plot_roc_curve(dt, X_test, y_test)\n",
        "plt.show()"
      ],
      "execution_count": null,
      "outputs": [
        {
          "output_type": "display_data",
          "data": {
            "image/png": "[encoded data removed]",
            "text/plain": [
              "<Figure size 432x288 with 1 Axes>"
            ]
          },
          "metadata": {
            "tags": [],
            "needs_background": "light"
          }
        }
      ]
    },
    {
      "cell_type": "code",
      "metadata": {
        "id": "AfZLUUfRGs9x",
        "colab": {
          "base_uri": "https://localhost:8080/",
          "height": 505
        },
        "outputId": "2157f891-b220-474d-ddb7-4cbf2393f288"
      },
      "source": [
        "#printing the confusion matrix\n",
        "LABELS = ['Normal', 'Fraud']\n",
        "conf_matrix = confusion_matrix(y_test, y_pred_dt )\n",
        "plt.figure(figsize=(6, 4))\n",
        "sns.heatmap(conf_matrix, xticklabels=LABELS, yticklabels=LABELS, annot=True, fmt=\"d\");\n",
        "plt.title(\"Confusion matrix\")\n",
        "plt.ylabel('True class')\n",
        "plt.xlabel('Predicted class')\n",
        "plt.show()\n",
        "n_errors = (y_pred_dt  != y_test).sum()\n",
        "# Run classification metrics\n",
        "plt.figure(figsize=(9, 7))\n",
        "print('{}: {}'.format(\"Decision Tree\", n_errors))\n",
        "print(accuracy_score(y_test, y_pred_dt ))\n",
        "print(classification_report(y_test,y_pred_dt ))"
      ],
      "execution_count": null,
      "outputs": [
        {
          "output_type": "display_data",
          "data": {
            "image/png": "[encoded data removed]",
            "text/plain": [
              "<Figure size 432x288 with 2 Axes>"
            ]
          },
          "metadata": {
            "tags": [],
            "needs_background": "light"
          }
        },
        {
          "output_type": "stream",
          "text": [
            "Decision Tree: 1210\n",
            "0.9993660892315849\n",
            "              precision    recall  f1-score   support\n",
            "\n",
            "           0       1.00      1.00      1.00   1906318\n",
            "           1       0.68      0.97      0.80      2468\n",
            "\n",
            "    accuracy                           1.00   1908786\n",
            "   macro avg       0.84      0.98      0.90   1908786\n",
            "weighted avg       1.00      1.00      1.00   1908786\n",
            "\n"
          ],
          "name": "stdout"
        },
        {
          "output_type": "display_data",
          "data": {
            "text/plain": [
              "<Figure size 648x504 with 0 Axes>"
            ]
          },
          "metadata": {
            "tags": []
          }
        }
      ]
    },
    {
      "cell_type": "markdown",
      "metadata": {
        "id": "Y8wT7QuYGs9y"
      },
      "source": [
        "# Naive Bayes"
      ]
    },
    {
      "cell_type": "code",
      "metadata": {
        "id": "74gGlKfdeXuo"
      },
      "source": [
        ""
      ],
      "execution_count": null,
      "outputs": []
    },
    {
      "cell_type": "code",
      "metadata": {
        "id": "e2raCkJ_Gs9y"
      },
      "source": [
        "#Import Gaussian Naive Bayes model\n",
        "from sklearn.naive_bayes import GaussianNB\n",
        "\n",
        "#Create a Gaussian C0.\n",
        "gnb = GaussianNB()\n",
        "\n",
        "#Train the model using the training sets\n",
        "gnb.fit(X_train, y_train)\n",
        "\n",
        "#Predict the response for test dataset\n",
        "y4= gnb.predict(X_test)"
      ],
      "execution_count": null,
      "outputs": []
    },
    {
      "cell_type": "code",
      "metadata": {
        "id": "81KSmz-GGs9y",
        "colab": {
          "base_uri": "https://localhost:8080/"
        },
        "outputId": "a32c3f05-ad21-4850-a898-21bf82df3e4c"
      },
      "source": [
        "from sklearn.metrics import accuracy_score, f1_score, precision_score, recall_score, plot_roc_curve\n",
        "acc6 = accuracy_score(y_test, y4)\n",
        "prec6 = precision_score(y_test, y4)\n",
        "rec6 = recall_score(y_test, y4)\n",
        "f16 = f1_score(y_test, y4)\n",
        "print('accuracy:%0.4f'%acc6,'\\tprecision:%0.4f'%prec6,'\\trecall:%0.4f'%rec6,'\\tF1-score:%0.4f'%f16)"
      ],
      "execution_count": null,
      "outputs": [
        {
          "output_type": "stream",
          "text": [
            "accuracy:0.9962 \tprecision:0.0624 \trecall:0.1406 \tF1-score:0.0864\n"
          ],
          "name": "stdout"
        }
      ]
    },
    {
      "cell_type": "code",
      "metadata": {
        "id": "s31TAVh6Gs9z"
      },
      "source": [
        "model_results = pd.DataFrame([['Naive Bayes', acc6,  rec6, prec6, f16]],\n",
        "               columns = ['Model', 'Accuracy',  'Recall', 'Precision', 'F1 Score'])\n",
        "results_testset = results_testset.append(model_results, ignore_index = True)"
      ],
      "execution_count": null,
      "outputs": []
    },
    {
      "cell_type": "code",
      "metadata": {
        "id": "3T06B6FbGs9z",
        "colab": {
          "base_uri": "https://localhost:8080/",
          "height": 285
        },
        "outputId": "579c02e8-3067-47e5-acc9-aafb48fdacfd"
      },
      "source": [
        "ROC_RF = plot_roc_curve(gnb, X_test, y_test)\n",
        "plt.show()"
      ],
      "execution_count": null,
      "outputs": [
        {
          "output_type": "display_data",
          "data": {
            "image/png": "[encoded data removed]",
            "text/plain": [
              "<Figure size 432x288 with 1 Axes>"
            ]
          },
          "metadata": {
            "tags": [],
            "needs_background": "light"
          }
        }
      ]
    },
    {
      "cell_type": "code",
      "metadata": {
        "id": "N_QW3EqWGs9z",
        "colab": {
          "base_uri": "https://localhost:8080/",
          "height": 505
        },
        "outputId": "aa965475-c2ab-4c6d-a746-a0356be20530"
      },
      "source": [
        "#printing the confusion matrix\n",
        "LABELS = ['Normal', 'Fraud']\n",
        "conf_matrix = confusion_matrix(y_test, y4)\n",
        "plt.figure(figsize=(6, 4))\n",
        "sns.heatmap(conf_matrix, xticklabels=LABELS, yticklabels=LABELS, annot=True, fmt=\"d\");\n",
        "plt.title(\"Confusion matrix\")\n",
        "plt.ylabel('True class')\n",
        "plt.xlabel('Predicted class')\n",
        "plt.show()\n",
        "n_errors = (y4 != y_test).sum()\n",
        "# Run classification metrics\n",
        "plt.figure(figsize=(9, 7))\n",
        "print('{}: {}'.format(\"Naive Bayes\", n_errors))\n",
        "print(accuracy_score(y_test, y4))\n",
        "print(classification_report(y_test, y4))"
      ],
      "execution_count": null,
      "outputs": [
        {
          "output_type": "display_data",
          "data": {
            "image/png": "[encoded data removed]",
            "text/plain": [
              "<Figure size 432x288 with 2 Axes>"
            ]
          },
          "metadata": {
            "tags": [],
            "needs_background": "light"
          }
        },
        {
          "output_type": "stream",
          "text": [
            "Naive Bayes: 7339\n",
            "0.9961551478269434\n",
            "              precision    recall  f1-score   support\n",
            "\n",
            "           0       1.00      1.00      1.00   1906318\n",
            "           1       0.06      0.14      0.09      2468\n",
            "\n",
            "    accuracy                           1.00   1908786\n",
            "   macro avg       0.53      0.57      0.54   1908786\n",
            "weighted avg       1.00      1.00      1.00   1908786\n",
            "\n"
          ],
          "name": "stdout"
        },
        {
          "output_type": "display_data",
          "data": {
            "text/plain": [
              "<Figure size 648x504 with 0 Axes>"
            ]
          },
          "metadata": {
            "tags": []
          }
        }
      ]
    },
    {
      "cell_type": "code",
      "metadata": {
        "id": "x9j-E-0oDd12",
        "colab": {
          "base_uri": "https://localhost:8080/",
          "height": 173
        },
        "outputId": "1290ad7a-6705-4f35-d90f-c7147f17ac1e"
      },
      "source": [
        "results_testset"
      ],
      "execution_count": null,
      "outputs": [
        {
          "output_type": "execute_result",
          "data": {
            "text/html": [
              "<div>\n",
              "<style scoped>\n",
              "    .dataframe tbody tr th:only-of-type {\n",
              "        vertical-align: middle;\n",
              "    }\n",
              "\n",
              "    .dataframe tbody tr th {\n",
              "        vertical-align: top;\n",
              "    }\n",
              "\n",
              "    .dataframe thead th {\n",
              "        text-align: right;\n",
              "    }\n",
              "</style>\n",
              "<table border=\"1\" class=\"dataframe\">\n",
              "  <thead>\n",
              "    <tr style=\"text-align: right;\">\n",
              "      <th></th>\n",
              "      <th>Model</th>\n",
              "      <th>Accuracy</th>\n",
              "      <th>Recall</th>\n",
              "      <th>Precision</th>\n",
              "      <th>F1 Score</th>\n",
              "    </tr>\n",
              "  </thead>\n",
              "  <tbody>\n",
              "    <tr>\n",
              "      <th>0</th>\n",
              "      <td>Logistic Regression</td>\n",
              "      <td>0.970566</td>\n",
              "      <td>0.910454</td>\n",
              "      <td>0.038602</td>\n",
              "      <td>0.074063</td>\n",
              "    </tr>\n",
              "    <tr>\n",
              "      <th>1</th>\n",
              "      <td>Random Forest</td>\n",
              "      <td>0.999215</td>\n",
              "      <td>0.957050</td>\n",
              "      <td>0.629196</td>\n",
              "      <td>0.759241</td>\n",
              "    </tr>\n",
              "    <tr>\n",
              "      <th>2</th>\n",
              "      <td>Decision Tree</td>\n",
              "      <td>0.999366</td>\n",
              "      <td>0.965964</td>\n",
              "      <td>0.679202</td>\n",
              "      <td>0.797591</td>\n",
              "    </tr>\n",
              "    <tr>\n",
              "      <th>3</th>\n",
              "      <td>Naive Bayes</td>\n",
              "      <td>0.996155</td>\n",
              "      <td>0.140600</td>\n",
              "      <td>0.062354</td>\n",
              "      <td>0.086394</td>\n",
              "    </tr>\n",
              "  </tbody>\n",
              "</table>\n",
              "</div>"
            ],
            "text/plain": [
              "                 Model  Accuracy    Recall  Precision  F1 Score\n",
              "0  Logistic Regression  0.970566  0.910454   0.038602  0.074063\n",
              "1        Random Forest  0.999215  0.957050   0.629196  0.759241\n",
              "2        Decision Tree  0.999366  0.965964   0.679202  0.797591\n",
              "3          Naive Bayes  0.996155  0.140600   0.062354  0.086394"
            ]
          },
          "metadata": {
            "tags": []
          },
          "execution_count": 37
        }
      ]
    },
    {
      "cell_type": "code",
      "metadata": {
        "id": "tu3GpQjAGs90",
        "colab": {
          "base_uri": "https://localhost:8080/",
          "height": 173
        },
        "outputId": "c3288c87-0a0b-40a9-9932-c18993d1a371"
      },
      "source": [
        "results_testset"
      ],
      "execution_count": null,
      "outputs": [
        {
          "output_type": "execute_result",
          "data": {
            "text/html": [
              "<div>\n",
              "<style scoped>\n",
              "    .dataframe tbody tr th:only-of-type {\n",
              "        vertical-align: middle;\n",
              "    }\n",
              "\n",
              "    .dataframe tbody tr th {\n",
              "        vertical-align: top;\n",
              "    }\n",
              "\n",
              "    .dataframe thead th {\n",
              "        text-align: right;\n",
              "    }\n",
              "</style>\n",
              "<table border=\"1\" class=\"dataframe\">\n",
              "  <thead>\n",
              "    <tr style=\"text-align: right;\">\n",
              "      <th></th>\n",
              "      <th>Model</th>\n",
              "      <th>Accuracy</th>\n",
              "      <th>Recall</th>\n",
              "      <th>Precision</th>\n",
              "      <th>F1 Score</th>\n",
              "    </tr>\n",
              "  </thead>\n",
              "  <tbody>\n",
              "    <tr>\n",
              "      <th>0</th>\n",
              "      <td>Logistic Regression</td>\n",
              "      <td>0.970566</td>\n",
              "      <td>0.910454</td>\n",
              "      <td>0.038602</td>\n",
              "      <td>0.074063</td>\n",
              "    </tr>\n",
              "    <tr>\n",
              "      <th>1</th>\n",
              "      <td>Random Forest</td>\n",
              "      <td>0.999215</td>\n",
              "      <td>0.957050</td>\n",
              "      <td>0.629196</td>\n",
              "      <td>0.759241</td>\n",
              "    </tr>\n",
              "    <tr>\n",
              "      <th>2</th>\n",
              "      <td>Decision Tree</td>\n",
              "      <td>0.999366</td>\n",
              "      <td>0.965964</td>\n",
              "      <td>0.679202</td>\n",
              "      <td>0.797591</td>\n",
              "    </tr>\n",
              "    <tr>\n",
              "      <th>3</th>\n",
              "      <td>Naive Bayes</td>\n",
              "      <td>0.996155</td>\n",
              "      <td>0.140600</td>\n",
              "      <td>0.062354</td>\n",
              "      <td>0.086394</td>\n",
              "    </tr>\n",
              "  </tbody>\n",
              "</table>\n",
              "</div>"
            ],
            "text/plain": [
              "                 Model  Accuracy    Recall  Precision  F1 Score\n",
              "0  Logistic Regression  0.970566  0.910454   0.038602  0.074063\n",
              "1        Random Forest  0.999215  0.957050   0.629196  0.759241\n",
              "2        Decision Tree  0.999366  0.965964   0.679202  0.797591\n",
              "3          Naive Bayes  0.996155  0.140600   0.062354  0.086394"
            ]
          },
          "metadata": {
            "tags": []
          },
          "execution_count": 38
        }
      ]
    },
    {
      "cell_type": "code",
      "metadata": {
        "id": "Jln_j_64Gs9z",
        "colab": {
          "base_uri": "https://localhost:8080/"
        },
        "outputId": "fb878f33-3614-45b0-9b9c-e4d6f52a467d"
      },
      "source": [
        "from xgboost import XGBClassifier\n",
        "\n",
        "#Create a svm Classifier\n",
        "clf2  =  XGBClassifier()\n",
        " \n",
        "#Train the model using the training sets\n",
        "clf2.fit(X_train, y_train)\n",
        "\n",
        "#Predict the response for test dataset\n",
        "xgb = clf2.predict(X_test)"
      ],
      "execution_count": null,
      "outputs": [
        {
          "output_type": "stream",
          "text": [
            "[11:55:04] WARNING: /workspace/src/learner.cc:686: Tree method is automatically selected to be 'approx' for faster speed. To use old behavior (exact greedy algorithm on single machine), set tree_method to 'exact'.\n"
          ],
          "name": "stdout"
        }
      ]
    },
    {
      "cell_type": "code",
      "metadata": {
        "id": "q4XdCOqXGs90",
        "colab": {
          "base_uri": "https://localhost:8080/"
        },
        "outputId": "20339141-4a6a-404f-8f5b-75f5fb008b22"
      },
      "source": [
        "from sklearn.metrics import accuracy_score, f1_score, precision_score, recall_score, plot_roc_curve\n",
        "acc11 = accuracy_score(y_test, xgb)\n",
        "prec11 = precision_score(y_test, xgb)\n",
        "rec11 = recall_score(y_test, xgb)\n",
        "f111= f1_score(y_test, xgb)\n",
        "print('accuracy:%0.4f'%acc11,'\\tprecision:%0.4f'%prec11,'\\trecall:%0.4f'%rec11,'\\tF1-score:%0.4f'%f111)"
      ],
      "execution_count": null,
      "outputs": [
        {
          "output_type": "stream",
          "text": [
            "accuracy:0.9835 \tprecision:0.0721 \trecall:0.9931 \tF1-score:0.1345\n"
          ],
          "name": "stdout"
        }
      ]
    },
    {
      "cell_type": "code",
      "metadata": {
        "id": "QGxhaGkOGs90"
      },
      "source": [
        "model_results = pd.DataFrame([['XGBoost', acc11,  rec11, prec11, f111]],\n",
        "               columns = ['Model', 'Accuracy',  'Recall', 'Precision', 'F1 Score'])\n",
        "results_testset = results_testset.append(model_results, ignore_index = True)"
      ],
      "execution_count": null,
      "outputs": []
    },
    {
      "cell_type": "code",
      "metadata": {
        "id": "wqsupNieGs90",
        "colab": {
          "base_uri": "https://localhost:8080/",
          "height": 285
        },
        "outputId": "35ed5051-688c-4440-a282-43c7b9267602"
      },
      "source": [
        "ROC_RF = plot_roc_curve(clf2, X_test, y_test)\n",
        "plt.show()"
      ],
      "execution_count": null,
      "outputs": [
        {
          "output_type": "display_data",
          "data": {
            "image/png": "[encoded data removed]",
            "text/plain": [
              "<Figure size 432x288 with 1 Axes>"
            ]
          },
          "metadata": {
            "tags": [],
            "needs_background": "light"
          }
        }
      ]
    },
    {
      "cell_type": "code",
      "metadata": {
        "id": "FG7wwe2KGs90",
        "colab": {
          "base_uri": "https://localhost:8080/",
          "height": 505
        },
        "outputId": "f1a06873-3345-488a-aba4-a14608b72624"
      },
      "source": [
        "#printing the confusion matrix\n",
        "LABELS = ['Normal', 'Fraud']\n",
        "conf_matrix = confusion_matrix(y_test, xgb)\n",
        "plt.figure(figsize=(6, 4))\n",
        "sns.heatmap(conf_matrix, xticklabels=LABELS, yticklabels=LABELS, annot=True, fmt=\"d\");\n",
        "plt.title(\"Confusion matrix\")\n",
        "plt.ylabel('True class')\n",
        "plt.xlabel('Predicted class')\n",
        "plt.show()\n",
        "n_errors = (xgb != y_test).sum()\n",
        "# Run classification metrics\n",
        "plt.figure(figsize=(9, 7))\n",
        "print('{}: {}'.format(\"SVM\", n_errors))\n",
        "print(accuracy_score(y_test, xgb))\n",
        "print(classification_report(y_test, xgb))"
      ],
      "execution_count": null,
      "outputs": [
        {
          "output_type": "display_data",
          "data": {
            "image/png": "[encoded data removed]",
            "text/plain": [
              "<Figure size 432x288 with 2 Axes>"
            ]
          },
          "metadata": {
            "tags": [],
            "needs_background": "light"
          }
        },
        {
          "output_type": "stream",
          "text": [
            "SVM: 31551\n",
            "0.9834706457402768\n",
            "              precision    recall  f1-score   support\n",
            "\n",
            "           0       1.00      0.98      0.99   1906318\n",
            "           1       0.07      0.99      0.13      2468\n",
            "\n",
            "    accuracy                           0.98   1908786\n",
            "   macro avg       0.54      0.99      0.56   1908786\n",
            "weighted avg       1.00      0.98      0.99   1908786\n",
            "\n"
          ],
          "name": "stdout"
        },
        {
          "output_type": "display_data",
          "data": {
            "text/plain": [
              "<Figure size 648x504 with 0 Axes>"
            ]
          },
          "metadata": {
            "tags": []
          }
        }
      ]
    }
  ]
}